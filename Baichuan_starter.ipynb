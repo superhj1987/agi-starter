{
  "nbformat": 4,
  "nbformat_minor": 0,
  "metadata": {
    "colab": {
      "provenance": [],
      "gpuType": "T4",
      "authorship_tag": "ABX9TyO0deH/bcwrxzb9pCwGLf6K",
      "include_colab_link": true
    },
    "kernelspec": {
      "name": "python3",
      "display_name": "Python 3"
    },
    "language_info": {
      "name": "python"
    },
    "accelerator": "GPU"
  },
  "cells": [
    {
      "cell_type": "markdown",
      "metadata": {
        "id": "view-in-github",
        "colab_type": "text"
      },
      "source": [
        "<a href=\"https://colab.research.google.com/github/superhj1987/agi-starter/blob/main/Baichuan_starter.ipynb\" target=\"_parent\"><img src=\"https://colab.research.google.com/assets/colab-badge.svg\" alt=\"Open In Colab\"/></a>"
      ]
    },
    {
      "cell_type": "code",
      "execution_count": null,
      "metadata": {
        "id": "4b__hsCclNJ4"
      },
      "outputs": [],
      "source": [
        "!git clone https://github.com/baichuan-inc/Baichuan-13B.git\n",
        "import os\n",
        "path=\"/content/Baichuan-13B\"\n",
        "os.chdir(path)\n",
        "os.listdir(path)\n",
        "!pip install -r /content/Baichuan-13B/requirements.txt"
      ]
    },
    {
      "cell_type": "code",
      "source": [
        "!nvidia-smi"
      ],
      "metadata": {
        "id": "JQOLuBW6vN9m"
      },
      "execution_count": null,
      "outputs": []
    },
    {
      "cell_type": "code",
      "source": [
        " import torch\n",
        " from transformers import AutoModelForCausalLM, AutoTokenizer\n",
        " from transformers.generation.utils import GenerationConfig\n",
        "\n",
        "# 内存不够，无法加载fp16格式的模型，需要购买colab pro。或者使用量化后的模型，暂时没找到\n",
        " tokenizer = AutoTokenizer.from_pretrained(\"baichuan-inc/Baichuan-13B-Chat\", use_fast=False, trust_remote_code=True)\n",
        " model = AutoModelForCausalLM.from_pretrained(\"baichuan-inc/Baichuan-13B-Chat\", trust_remote_code=True,device_map=\"auto\", torch_dtype=torch.float16).quantize(4).cuda()\n",
        " model.generation_config = GenerationConfig.from_pretrained(\"baichuan-inc/Baichuan-13B-Chat\")"
      ],
      "metadata": {
        "id": "x_YrqX2qlp3e"
      },
      "execution_count": null,
      "outputs": []
    }
  ]
}