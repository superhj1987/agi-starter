{
  "nbformat": 4,
  "nbformat_minor": 0,
  "metadata": {
    "colab": {
      "provenance": [],
      "gpuType": "T4",
      "include_colab_link": true
    },
    "kernelspec": {
      "name": "python3",
      "display_name": "Python 3"
    },
    "language_info": {
      "name": "python"
    },
    "accelerator": "GPU"
  },
  "cells": [
    {
      "cell_type": "markdown",
      "metadata": {
        "id": "view-in-github",
        "colab_type": "text"
      },
      "source": [
        "<a href=\"https://colab.research.google.com/github/superhj1987/agi-starter/blob/main/ChatGLM2_%E5%AE%9E%E6%88%98.ipynb\" target=\"_parent\"><img src=\"https://colab.research.google.com/assets/colab-badge.svg\" alt=\"Open In Colab\"/></a>"
      ]
    },
    {
      "cell_type": "markdown",
      "source": [
        "## 1. 下载代码"
      ],
      "metadata": {
        "id": "Tb-uH8mjjLpP"
      }
    },
    {
      "cell_type": "code",
      "source": [
        "!git clone https://github.com/THUDM/ChatGLM2-6B.git"
      ],
      "metadata": {
        "id": "ZjebSELBBE5s"
      },
      "execution_count": null,
      "outputs": []
    },
    {
      "cell_type": "markdown",
      "source": [
        "# 2. 安装环境"
      ],
      "metadata": {
        "id": "PnnSIWgvjPJJ"
      }
    },
    {
      "cell_type": "code",
      "source": [
        "!pip install -r /content/ChatGLM2-6B/requirements.txt"
      ],
      "metadata": {
        "id": "1kNceOOhBJqU"
      },
      "execution_count": null,
      "outputs": []
    },
    {
      "cell_type": "markdown",
      "source": [
        "# 3. 加载模型"
      ],
      "metadata": {
        "id": "EzRh32q4jXMx"
      }
    },
    {
      "cell_type": "code",
      "source": [
        "from transformers import AutoTokenizer, AutoModel\n",
        "tokenizer = AutoTokenizer.from_pretrained(\"THUDM/chatglm2-6b-int4\", trust_remote_code=True)\n",
        "model = AutoModel.from_pretrained(\"THUDM/chatglm2-6b-int4\",trust_remote_code=True,device='cuda').half().cuda()"
      ],
      "metadata": {
        "id": "VcMb1-VLuJtC"
      },
      "execution_count": null,
      "outputs": []
    },
    {
      "cell_type": "markdown",
      "source": [
        "# 4. 模型推理"
      ],
      "metadata": {
        "id": "1d8vn7QzjbaT"
      }
    },
    {
      "cell_type": "code",
      "source": [
        "%%time\n",
        "response, history = model.chat(tokenizer, \"你好\", history=[])\n",
        "print(response)"
      ],
      "metadata": {
        "id": "Nah84IKIYpUH"
      },
      "execution_count": null,
      "outputs": []
    },
    {
      "cell_type": "markdown",
      "source": [
        "# 5. 情绪识别"
      ],
      "metadata": {
        "id": "b-4-T6obZUWQ"
      }
    },
    {
      "cell_type": "code",
      "source": [
        "%%time\n",
        "content=\"\"\"今天天气真不错，可惜工作太忙\n",
        "，不然就可以出去逛逛了。\n",
        "\"\"\"\n",
        "prompt='从上文中，分析表达的情绪并输出'\n",
        "inputs ='{}\\n\\n{}'.format(content,prompt)\n",
        "print(inputs)\n",
        "response, history = model.chat(tokenizer, inputs, history=[])\n",
        "print(response)"
      ],
      "metadata": {
        "id": "94MmRC3pV6ke"
      },
      "execution_count": null,
      "outputs": []
    },
    {
      "cell_type": "markdown",
      "source": [
        "# 6. Web Demo"
      ],
      "metadata": {
        "id": "JK-n7vihUSx-"
      }
    },
    {
      "cell_type": "code",
      "source": [
        "import os\n",
        "path=\"/content/ChatGLM2-6B\"\n",
        "os.chdir(path)\n",
        "os.listdir(path)\n",
        "\n",
        "from transformers import AutoModel, AutoTokenizer\n",
        "import gradio as gr\n",
        "import mdtex2html\n",
        "from utils import load_model_on_gpus\n",
        "\n",
        "def postprocess(self, y):\n",
        "    if y is None:\n",
        "        return []\n",
        "    for i, (message, response) in enumerate(y):\n",
        "        y[i] = (\n",
        "            None if message is None else mdtex2html.convert((message)),\n",
        "            None if response is None else mdtex2html.convert(response),\n",
        "        )\n",
        "    return y\n",
        "\n",
        "\n",
        "gr.Chatbot.postprocess = postprocess\n",
        "\n",
        "\n",
        "def parse_text(text):\n",
        "    \"\"\"copy from https://github.com/GaiZhenbiao/ChuanhuChatGPT/\"\"\"\n",
        "    lines = text.split(\"\\n\")\n",
        "    lines = [line for line in lines if line != \"\"]\n",
        "    count = 0\n",
        "    for i, line in enumerate(lines):\n",
        "        if \"```\" in line:\n",
        "            count += 1\n",
        "            items = line.split('`')\n",
        "            if count % 2 == 1:\n",
        "                lines[i] = f'<pre><code class=\"language-{items[-1]}\">'\n",
        "            else:\n",
        "                lines[i] = f'<br></code></pre>'\n",
        "        else:\n",
        "            if i > 0:\n",
        "                if count % 2 == 1:\n",
        "                    line = line.replace(\"`\", \"\\`\")\n",
        "                    line = line.replace(\"<\", \"&lt;\")\n",
        "                    line = line.replace(\">\", \"&gt;\")\n",
        "                    line = line.replace(\" \", \"&nbsp;\")\n",
        "                    line = line.replace(\"*\", \"&ast;\")\n",
        "                    line = line.replace(\"_\", \"&lowbar;\")\n",
        "                    line = line.replace(\"-\", \"&#45;\")\n",
        "                    line = line.replace(\".\", \"&#46;\")\n",
        "                    line = line.replace(\"!\", \"&#33;\")\n",
        "                    line = line.replace(\"(\", \"&#40;\")\n",
        "                    line = line.replace(\")\", \"&#41;\")\n",
        "                    line = line.replace(\"$\", \"&#36;\")\n",
        "                lines[i] = \"<br>\"+line\n",
        "    text = \"\".join(lines)\n",
        "    return text\n",
        "\n",
        "\n",
        "def predict(input, chatbot, max_length, top_p, temperature, history, past_key_values):\n",
        "    chatbot.append((parse_text(input), \"\"))\n",
        "    for response, history, past_key_values in model.stream_chat(tokenizer, input, history, past_key_values=past_key_values,\n",
        "                                                                return_past_key_values=True,\n",
        "                                                                max_length=max_length, top_p=top_p,\n",
        "                                                                temperature=temperature):\n",
        "        chatbot[-1] = (parse_text(input), parse_text(response))\n",
        "\n",
        "        yield chatbot, history, past_key_values\n",
        "\n",
        "\n",
        "def reset_user_input():\n",
        "    return gr.update(value='')\n",
        "\n",
        "\n",
        "def reset_state():\n",
        "    return [], [], None\n",
        "\n",
        "\n",
        "with gr.Blocks() as demo:\n",
        "    gr.HTML(\"\"\"<h1 align=\"center\">ChatGLM2-6B</h1>\"\"\")\n",
        "\n",
        "    chatbot = gr.Chatbot()\n",
        "    with gr.Row():\n",
        "        with gr.Column(scale=4):\n",
        "            with gr.Column(scale=12):\n",
        "                user_input = gr.Textbox(show_label=False, placeholder=\"Input...\", lines=10).style(\n",
        "                    container=False)\n",
        "            with gr.Column(min_width=32, scale=1):\n",
        "                submitBtn = gr.Button(\"Submit\", variant=\"primary\")\n",
        "        with gr.Column(scale=1):\n",
        "            emptyBtn = gr.Button(\"Clear History\")\n",
        "            max_length = gr.Slider(0, 32768, value=8192, step=1.0, label=\"Maximum length\", interactive=True)\n",
        "            top_p = gr.Slider(0, 1, value=0.8, step=0.01, label=\"Top P\", interactive=True)\n",
        "            temperature = gr.Slider(0, 1, value=0.95, step=0.01, label=\"Temperature\", interactive=True)\n",
        "\n",
        "    history = gr.State([])\n",
        "    past_key_values = gr.State(None)\n",
        "\n",
        "    submitBtn.click(predict, [user_input, chatbot, max_length, top_p, temperature, history, past_key_values],\n",
        "                    [chatbot, history, past_key_values], show_progress=True)\n",
        "    submitBtn.click(reset_user_input, [], [user_input])\n",
        "\n",
        "    emptyBtn.click(reset_state, outputs=[chatbot, history, past_key_values], show_progress=True)\n",
        "\n",
        "demo.queue().launch(share=True, inbrowser=True)"
      ],
      "metadata": {
        "id": "40UNB1lQLQBf"
      },
      "execution_count": null,
      "outputs": []
    }
  ]
}